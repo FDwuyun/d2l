{
 "cells": [
  {
   "cell_type": "code",
   "execution_count": 1,
   "id": "7a058124",
   "metadata": {
    "_cell_guid": "b1076dfc-b9ad-4769-8c92-a6c4dae69d19",
    "_uuid": "8f2839f25d086af736a60e9eeb907d3b93b6e0e5",
    "execution": {
     "iopub.execute_input": "2023-06-13T10:41:22.343190Z",
     "iopub.status.busy": "2023-06-13T10:41:22.342480Z",
     "iopub.status.idle": "2023-06-13T10:41:25.943061Z",
     "shell.execute_reply": "2023-06-13T10:41:25.942095Z"
    },
    "papermill": {
     "duration": 3.60794,
     "end_time": "2023-06-13T10:41:25.945532",
     "exception": false,
     "start_time": "2023-06-13T10:41:22.337592",
     "status": "completed"
    },
    "tags": []
   },
   "outputs": [],
   "source": [
    "import os\n",
    "import torch\n",
    "import torch.nn as nn\n",
    "import torch.optim as optim\n",
    "import torchvision.datasets \n",
    "import torchvision.transforms as transforms\n",
    "import pandas as pd\n",
    "from torch.utils.data import Dataset, DataLoader\n",
    "from PIL import Image"
   ]
  },
  {
   "cell_type": "code",
   "execution_count": 2,
   "id": "852ccb72",
   "metadata": {
    "execution": {
     "iopub.execute_input": "2023-06-13T10:41:25.953966Z",
     "iopub.status.busy": "2023-06-13T10:41:25.952572Z",
     "iopub.status.idle": "2023-06-13T10:41:26.120421Z",
     "shell.execute_reply": "2023-06-13T10:41:26.119500Z"
    },
    "papermill": {
     "duration": 0.173957,
     "end_time": "2023-06-13T10:41:26.122611",
     "exception": false,
     "start_time": "2023-06-13T10:41:25.948654",
     "status": "completed"
    },
    "tags": []
   },
   "outputs": [],
   "source": [
    "#标签和类别数进行对应\n",
    "train = pd.read_csv(\"/kaggle/input/classify-leaves/train.csv\")\n",
    "labels = list(pd.read_csv(\"/kaggle/input/classify-leaves/train.csv\")['label'])\n",
    "labels_unique = list(set(list(labels))) #list index--labels\n",
    "label_nums = []\n",
    "for i in range(len(labels)):\n",
    "    label_nums.append(labels_unique.index(labels[i]))\n",
    "train['number'] = label_nums\n",
    "train.to_csv(\"./train_num_label.csv\", index = 0) #记录对应关系"
   ]
  },
  {
   "cell_type": "code",
   "execution_count": 3,
   "id": "e34b5694",
   "metadata": {
    "execution": {
     "iopub.execute_input": "2023-06-13T10:41:26.129529Z",
     "iopub.status.busy": "2023-06-13T10:41:26.129217Z",
     "iopub.status.idle": "2023-06-13T10:41:26.140355Z",
     "shell.execute_reply": "2023-06-13T10:41:26.139448Z"
    },
    "papermill": {
     "duration": 0.01684,
     "end_time": "2023-06-13T10:41:26.142368",
     "exception": false,
     "start_time": "2023-06-13T10:41:26.125528",
     "status": "completed"
    },
    "tags": []
   },
   "outputs": [],
   "source": [
    "class Leaf_Train_Dataset(Dataset):\n",
    "    '''\n",
    "    树叶数据集的训练集 自定义Dataset\n",
    "    '''\n",
    "    def __init__(self, train_path, transform = None):\n",
    "        '''\n",
    "        train_path : 传入记录图像路径及其标号的csv文件\n",
    "        transform : 对图像进行的变换\n",
    "        '''\n",
    "        super().__init__()\n",
    "        self.train_csv = pd.read_csv(train_path)\n",
    "        self.image_path = list(self.train_csv['image']) #图像所在地址记录\n",
    "        self.label_nums = list(self.train_csv['number']) #图像的标号记录\n",
    "        self.transform = transform\n",
    "    def __getitem__(self, idx):\n",
    "        '''\n",
    "        idx : 所需要获取的图像的索引\n",
    "        return : image， label\n",
    "        '''\n",
    "        image = Image.open(os.path.join(\"/kaggle/input/classify-leaves\", self.image_path[idx]))\n",
    "        if(self.transform != None):\n",
    "            image = self.transform(image)\n",
    "        label = self.label_nums[idx]\n",
    "        return image, label\n",
    "    def __len__(self):\n",
    "        return len(self.image_path)\n",
    "\n",
    "class Leaf_Test_Dataset(Dataset):\n",
    "    '''\n",
    "    树叶数据集的训练集 自定义Dataset\n",
    "    '''\n",
    "    def __init__(self, test_path, transform = None):\n",
    "        '''\n",
    "        train_path : 传入记录图像路径及其标号的csv文件\n",
    "        transform : 对图像进行的变换\n",
    "        '''\n",
    "        super().__init__()\n",
    "        self.test_csv = pd.read_csv(test_path)\n",
    "        self.image_path = list(self.test_csv['image']) #图像所在地址记录\n",
    "        self.transform = transform\n",
    "    def __getitem__(self, idx):\n",
    "        '''\n",
    "        idx : 所需要获取的图像的索引\n",
    "        return : image\n",
    "        '''\n",
    "        image = Image.open(os.path.join(\"/kaggle/input/classify-leaves\", self.image_path[idx]))\n",
    "        if(self.transform != None):\n",
    "            image = self.transform(image)\n",
    "        return image\n",
    "    def __len__(self):\n",
    "        return len(self.image_path)"
   ]
  },
  {
   "cell_type": "code",
   "execution_count": 4,
   "id": "8c4c0c6b",
   "metadata": {
    "execution": {
     "iopub.execute_input": "2023-06-13T10:41:26.148836Z",
     "iopub.status.busy": "2023-06-13T10:41:26.148583Z",
     "iopub.status.idle": "2023-06-13T10:41:26.154699Z",
     "shell.execute_reply": "2023-06-13T10:41:26.153728Z"
    },
    "papermill": {
     "duration": 0.011883,
     "end_time": "2023-06-13T10:41:26.156977",
     "exception": false,
     "start_time": "2023-06-13T10:41:26.145094",
     "status": "completed"
    },
    "tags": []
   },
   "outputs": [],
   "source": [
    "#data agumentation\n",
    "transforms_train = torchvision.transforms.Compose([\n",
    "    transforms.RandomHorizontalFlip(p=0.5),\n",
    "    transforms.RandomVerticalFlip(p=0.5),\n",
    "    transforms.ColorJitter(brightness=0.5, contrast=0.5, saturation=0.5, hue=0.5),\n",
    "    transforms.RandomResizedCrop(size=(224, 224), scale=(0.5, 1),ratio=(3/4, 4/3)),\n",
    "    transforms.ToTensor()\n",
    "])\n",
    "transforms_test = torchvision.transforms.Compose([\n",
    "    transforms.Resize((224, 224)),\n",
    "    transforms.ToTensor()\n",
    "])"
   ]
  },
  {
   "cell_type": "code",
   "execution_count": 5,
   "id": "994078cc",
   "metadata": {
    "execution": {
     "iopub.execute_input": "2023-06-13T10:41:26.163380Z",
     "iopub.status.busy": "2023-06-13T10:41:26.163109Z",
     "iopub.status.idle": "2023-06-13T10:41:26.174091Z",
     "shell.execute_reply": "2023-06-13T10:41:26.173314Z"
    },
    "papermill": {
     "duration": 0.016375,
     "end_time": "2023-06-13T10:41:26.176069",
     "exception": false,
     "start_time": "2023-06-13T10:41:26.159694",
     "status": "completed"
    },
    "tags": []
   },
   "outputs": [],
   "source": [
    "def train(train_loader, valid_loader, device = torch.device(\"cuda:0\")):\n",
    "    net = torchvision.models.resnet50(weights = torchvision.models.ResNet50_Weights.IMAGENET1K_V1)\n",
    "    in_features = net.fc.in_features\n",
    "    net.fc = nn.Linear(in_features, 176)\n",
    "    epoch = 5\n",
    "    losses = []\n",
    "    optimizer = optim.SGD(net.parameters(), lr=0.01, weight_decay=1e-3)\n",
    "    loss = nn.CrossEntropyLoss(reduction='mean')\n",
    "    for i in range(epoch):\n",
    "        acc = 0\n",
    "        loss_sum = 0\n",
    "        for x, y in train_loader:\n",
    "            net = net.to(device)\n",
    "            x = torch.as_tensor(x, dtype=torch.float)\n",
    "            x = x.to(device)\n",
    "            y = y.to(device)\n",
    "            y_hat = net(x)\n",
    "            loss_temp = loss(y_hat, y)\n",
    "            loss_sum += loss_temp\n",
    "            optimizer.zero_grad()\n",
    "            loss_temp.backward()\n",
    "            optimizer.step()\n",
    "            acc += torch.sum(y_hat.argmax(dim=1).type(y.dtype) == y)\n",
    "        losses.append(loss_sum.cpu().detach().numpy() / len(train_loader))\n",
    "        print( \"epoch: \", i, \"loss=\", loss_sum.item(), \"训练集准确度=\",(acc/(len(train_loader)*train_loader.batch_size)).item(),end=\"\")\n",
    "\n",
    "#         test_acc = 0\n",
    "#         for x, y in valid_loader:\n",
    "#             x = x.to(device)\n",
    "#             x = torch.as_tensor(x, dtype=torch.float)\n",
    "#             y = y.to(device)\n",
    "#             y_hat = net(x)\n",
    "#             test_acc += torch.sum(y_hat.argmax(dim=1).type(y.dtype) == y)\n",
    "#         print(\"验证集准确度\", (test_acc / (len(valid_loader)*valid_loader.batch_size)).item())\n",
    "    torch.save(net.state_dict(), 'resnet50')\n",
    "    return net"
   ]
  },
  {
   "cell_type": "code",
   "execution_count": 6,
   "id": "82f76794",
   "metadata": {
    "execution": {
     "iopub.execute_input": "2023-06-13T10:41:26.182507Z",
     "iopub.status.busy": "2023-06-13T10:41:26.182225Z",
     "iopub.status.idle": "2023-06-13T10:55:37.806924Z",
     "shell.execute_reply": "2023-06-13T10:55:37.802741Z"
    },
    "papermill": {
     "duration": 851.631704,
     "end_time": "2023-06-13T10:55:37.810393",
     "exception": false,
     "start_time": "2023-06-13T10:41:26.178689",
     "status": "completed"
    },
    "tags": []
   },
   "outputs": [
    {
     "name": "stderr",
     "output_type": "stream",
     "text": [
      "Downloading: \"https://download.pytorch.org/models/resnet50-0676ba61.pth\" to /root/.cache/torch/hub/checkpoints/resnet50-0676ba61.pth\n",
      "100%|██████████| 97.8M/97.8M [00:01<00:00, 89.1MB/s]\n"
     ]
    },
    {
     "name": "stdout",
     "output_type": "stream",
     "text": [
      "epoch:  0 loss= 1256.944091796875 训练集准确度= 0.13038980960845947epoch:  1 loss= 780.0076293945312 训练集准确度= 0.37086236476898193epoch:  2 loss= 557.8914184570312 训练集准确度= 0.5140461921691895epoch:  3 loss= 435.74066162109375 训练集准确度= 0.6126959919929504epoch:  4 loss= 358.3039855957031 训练集准确度= 0.6740527153015137"
     ]
    }
   ],
   "source": [
    "trainset = Leaf_Train_Dataset(\"/kaggle/working/train_num_label.csv\", transform = transforms_train)\n",
    "testset = Leaf_Test_Dataset(\"/kaggle/input/classify-leaves/test.csv\", transform = transforms_test)\n",
    "train_loader = torch.utils.data.DataLoader(trainset, batch_size=64, shuffle=True, drop_last=False)\n",
    "test_loader = torch.utils.data.DataLoader(testset, batch_size=64, shuffle=False, drop_last=False)\n",
    "net = train(train_loader, test_loader)"
   ]
  },
  {
   "cell_type": "code",
   "execution_count": 7,
   "id": "98eadbf5",
   "metadata": {
    "execution": {
     "iopub.execute_input": "2023-06-13T10:55:37.821345Z",
     "iopub.status.busy": "2023-06-13T10:55:37.821017Z",
     "iopub.status.idle": "2023-06-13T10:57:12.657888Z",
     "shell.execute_reply": "2023-06-13T10:57:12.656920Z"
    },
    "papermill": {
     "duration": 94.845702,
     "end_time": "2023-06-13T10:57:12.660300",
     "exception": false,
     "start_time": "2023-06-13T10:55:37.814598",
     "status": "completed"
    },
    "tags": []
   },
   "outputs": [],
   "source": [
    "device = torch.device(\"cuda:0\")\n",
    "predict = torch.tensor([]).to(device)\n",
    "with torch.no_grad():\n",
    "    for x in test_loader:\n",
    "        net = net.to(device)\n",
    "        x = x.to(device)\n",
    "        x = torch.as_tensor(x, dtype=torch.float)\n",
    "        y_hat = net(x)\n",
    "        predict = torch.cat((y_hat, predict), dim=0)\n",
    "    predict = torch.argmax(predict, dim=1).reshape(-1)\n",
    "predict_label = []\n",
    "for i in range(predict.shape[0]):\n",
    "    predict_label.append(labels_unique[predict[i]])\n",
    "\n",
    "submission = pd.read_csv(\"/kaggle/input/classify-leaves/test.csv\")\n",
    "submission[\"label\"] = pd.Series(predict_label)\n",
    "submission.to_csv(\"result.csv\", index=False)"
   ]
  }
 ],
 "metadata": {
  "kernelspec": {
   "display_name": "Python 3",
   "language": "python",
   "name": "python3"
  },
  "language_info": {
   "codemirror_mode": {
    "name": "ipython",
    "version": 3
   },
   "file_extension": ".py",
   "mimetype": "text/x-python",
   "name": "python",
   "nbconvert_exporter": "python",
   "pygments_lexer": "ipython3",
   "version": "3.10.10"
  },
  "papermill": {
   "default_parameters": {},
   "duration": 963.078818,
   "end_time": "2023-06-13T10:57:14.923472",
   "environment_variables": {},
   "exception": null,
   "input_path": "__notebook__.ipynb",
   "output_path": "__notebook__.ipynb",
   "parameters": {},
   "start_time": "2023-06-13T10:41:11.844654",
   "version": "2.4.0"
  }
 },
 "nbformat": 4,
 "nbformat_minor": 5
}
