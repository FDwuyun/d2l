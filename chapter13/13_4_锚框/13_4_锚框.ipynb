{
 "cells": [
  {
   "cell_type": "code",
   "execution_count": 1,
   "metadata": {},
   "outputs": [
    {
     "name": "stderr",
     "output_type": "stream",
     "text": [
      "/home/qlf/anaconda3/envs/d2l/lib/python3.9/site-packages/tqdm/auto.py:21: TqdmWarning: IProgress not found. Please update jupyter and ipywidgets. See https://ipywidgets.readthedocs.io/en/stable/user_install.html\n",
      "  from .autonotebook import tqdm as notebook_tqdm\n"
     ]
    }
   ],
   "source": [
    "import torch\n",
    "from torch import nn\n",
    "from torch.nn import functional as F\n",
    "import torchvision\n",
    "from torchvision import models,transforms,datasets\n",
    "from torch.utils import data\n",
    "import os\n",
    "# script_dir = os.path.dirname(os.path.abspath(__file__))\n",
    "script_dir = os.getcwd()\n",
    "\n",
    "# 精简输出精度\n",
    "torch.set_printoptions(2)\n",
    "\n",
    "import math\n",
    "\n",
    "def multibox_prior(data, sizes, ratios):\n",
    "    \"\"\"生成以每个像素为中心具有不同形状的锚框，生成的是归一化之后的，需要乘以h,w才是真实的锚框\"\"\"\n",
    "    # in_height, in_width = data.shape[-2:]\n",
    "    in_height = data.shape[-2]\n",
    "    in_width = data.shape[-1]\n",
    "\n",
    "    device, num_sizes, num_ratios = data.device, len(sizes), len(ratios)\n",
    "    boxes_per_pixel = (num_sizes + num_ratios -1)\n",
    "    size_tensor = torch.tensor(sizes, device=device)\n",
    "    ratio_tensor = torch.tensor(ratios, device=device)\n",
    "\n",
    "    # 为了将锚点移动到像素的中心，需要设置偏移量\n",
    "    # 因为一个像素的高为1且宽为1，我们选择偏移中心0.5\n",
    "    offset_h, offset_w = 0.5, 0.5\n",
    "    steps_h = 1.0 / in_height # 在y轴上缩放步长\n",
    "    steps_w = 1.0 / in_width # 在x轴上缩放步长\n",
    "\n",
    "    # 生成锚框的所有中心点\n",
    "    center_h = (torch.arange(in_height, device=device) + offset_h) * steps_h\n",
    "    center_w = (torch.arange(in_width, device=device) + offset_w) * steps_w\n",
    "    # 其中第一个输出张量填充第一个输入张量中的元素，各行元素相同；第二个输出张量填充第二个输入张量中的元素，各列元素相同\n",
    "    shift_y, shift_x = torch.meshgrid(center_h, center_w, indexing='ij')\n",
    "    shift_y, shift_x = shift_y.reshape(-1), shift_x.reshape(-1)\n",
    "\n",
    "    # 生成“boxes_per_pixel”个高和宽，\n",
    "    # 之后用于创建锚框的四角坐标(xmin, ymin, xmax, ymax)\n",
    "    # numel(w) = boxes_per_pixel = (num_sizes + num_ratios -1) , 只考虑包含s1或r1的组合: (s1, r1), (s1, r2), ..., (s1, rm), (s2, r1), (s3, r1), ..., (sn, r1)\n",
    "    # w = torch.cat((size_tensor * torch.sqrt(ratio_tensor[0]), sizes[0] * torch.sqrt(ratio_tensor[1:])))  # 处理矩形输入\n",
    "    # h = torch.cat((size_tensor / torch.sqrt(ratio_tensor[0]), sizes[0] / torch.sqrt(ratio_tensor[1:])))\n",
    "    \n",
    "    w = torch.cat((size_tensor * torch.sqrt(ratio_tensor[0]), sizes[0] * torch.sqrt(ratio_tensor[1:]))) * math.sqrt(in_height / in_width)\n",
    "    w0 = torch.cat((size_tensor * torch.sqrt(ratio_tensor[0]), sizes[0] * torch.sqrt(ratio_tensor[1:]))) * torch.sqrt(in_height / in_width)\n",
    "    if w.tolist() == w0.tolist():\n",
    "        print(\"w == w0\")\n",
    "    h = torch.cat((size_tensor / torch.sqrt(ratio_tensor[0]), sizes[0] / torch.sqrt(ratio_tensor[1:]))) * math.sqrt(in_width / in_height)\n",
    "    # 除以2来获得半高和半宽，repeat_interleave()：在原有的tensor上，按每一个tensor复制。repeat()：根据原有的tensor复制n个，然后拼接在一起。\n",
    "    anchor_manipulations = torch.stack((-w, -h, w, h)).T.repeat(in_height * in_width, 1) / 2\n",
    "\n",
    "    # 每个中心点都将有\"boxes_per_pixel\"个锚框\n",
    "    # 所以生成含所有锚框中心的网络，重复了\"boxes_per_pixel\"次\n",
    "    # repeat_interleave()：在原有的tensor上，按每一个tensor复制。repeat()：根据原有的tensor复制n个，然后拼接在一起。\n",
    "    out_grid = torch.stack([shift_x, shift_y, shift_x, shift_y], dim=1).repeat_interleave(boxes_per_pixel, dim=0)\n",
    "    output = out_grid + anchor_manipulations\n",
    "    # unsqueeze 函数用于在指定维度上给张量增加一个维度，从而改变张量的形状。在这里，unsqueeze(0) 表示在维度 0 上增加一个维度，即在张量的最外层添加一个维度。\n",
    "    return output.unsqueeze(0)"
   ]
  },
  {
   "cell_type": "code",
   "execution_count": 2,
   "metadata": {},
   "outputs": [],
   "source": [
    "import matplotlib\n",
    "matplotlib.use(\"Agg\")  # 这一句一定要放在下面这句的前面\n",
    "from matplotlib import pyplot as plt\n",
    "\n",
    "# img = plt.imread('../img/catdog.jpg')\n",
    "# h, w = img.shape[:2]\n",
    "\n",
    "# print(h, w)\n",
    "# X = torch.rand(size=(1, 3, 2, 3))\n",
    "# Y = multibox_prior(X, sizes=[0.5], ratios=[1])\n",
    "# print(Y)\n",
    "# print(Y.shape)"
   ]
  },
  {
   "cell_type": "code",
   "execution_count": 3,
   "metadata": {},
   "outputs": [
    {
     "name": "stdout",
     "output_type": "stream",
     "text": [
      "tensor([[[2.00, 1.50]],\n",
      "\n",
      "        [[2.00, 1.50]]]) torch.Size([2, 1, 2])\n",
      "tensor([[[3.00, 2.00]],\n",
      "\n",
      "        [[2.50, 2.00]]]) torch.Size([2, 1, 2])\n"
     ]
    }
   ],
   "source": [
    "boxes1 = torch.tensor(\n",
    "    [\n",
    "        [1, 1, 3, 2],\n",
    "        [1.5, 1, 2.5, 2]\n",
    "    ]\n",
    ")\n",
    "boxes2 = torch.tensor(\n",
    "    [\n",
    "        [2, 1.5, 3, 3]\n",
    "    ]\n",
    ")\n",
    "inter_upperlefts = torch.maximum(boxes1[:, None, :2], boxes2[:, :2])\n",
    "print(boxes1[:, None, :2] + boxes2[:, :2],inter_upperlefts, inter_upperlefts.shape)\n",
    "inter_lowerrights = torch.minimum(boxes1[:, None, 2:], boxes2[:, 2:])\n",
    "print(inter_lowerrights, inter_lowerrights.shape)"
   ]
  }
 ],
 "metadata": {
  "kernelspec": {
   "display_name": "Python 3",
   "language": "python",
   "name": "python3"
  },
  "language_info": {
   "codemirror_mode": {
    "name": "ipython",
    "version": 3
   },
   "file_extension": ".py",
   "mimetype": "text/x-python",
   "name": "python",
   "nbconvert_exporter": "python",
   "pygments_lexer": "ipython3",
   "version": "3.9.18"
  }
 },
 "nbformat": 4,
 "nbformat_minor": 2
}
